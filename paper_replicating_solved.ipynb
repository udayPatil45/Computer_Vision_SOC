{
  "nbformat": 4,
  "nbformat_minor": 0,
  "metadata": {
    "colab": {
      "provenance": [],
      "toc_visible": true,
      "authorship_tag": "ABX9TyMoRbKHDRrTSWd1N0uLa4xr",
      "include_colab_link": true
    },
    "kernelspec": {
      "name": "python3",
      "display_name": "Python 3"
    },
    "language_info": {
      "name": "python"
    }
  },
  "cells": [
    {
      "cell_type": "markdown",
      "metadata": {
        "id": "view-in-github",
        "colab_type": "text"
      },
      "source": [
        "<a href=\"https://colab.research.google.com/github/udayPatil45/Computer_Vision_SOC/blob/main/paper_replicating_solved.ipynb\" target=\"_parent\"><img src=\"https://colab.research.google.com/assets/colab-badge.svg\" alt=\"Open In Colab\"/></a>"
      ]
    },
    {
      "cell_type": "markdown",
      "source": [
        "1. What is paper replication and why is it important in ML?\n",
        "Answer:\n",
        "Paper replication involves reproducing the results of a published machine learning research paper using your own code. It's important because:\n",
        "\n",
        "It validates the research findings.\n",
        "\n",
        "Helps you deeply understand the architecture and methods used.\n",
        "\n",
        "Builds skill in translating academic concepts into working code.\n",
        "\n"
      ],
      "metadata": {
        "id": "d1498GJWDhCS"
      }
    },
    {
      "cell_type": "markdown",
      "source": [
        "2. Example: Building a small ViT (Vision Transformer) from scratch in PyTorch"
      ],
      "metadata": {
        "id": "hS_9HjtBDkvA"
      }
    },
    {
      "cell_type": "code",
      "execution_count": null,
      "metadata": {
        "id": "msW12vM_DURn"
      },
      "outputs": [],
      "source": [
        "import torch\n",
        "from torch import nn\n",
        "\n",
        "class PatchEmbedding(nn.Module):\n",
        "    def __init__(self, in_channels=3, patch_size=16, embedding_dim=768, image_size=224):\n",
        "        super().__init__()\n",
        "        self.patch_size = patch_size\n",
        "        self.projection = nn.Conv2d(in_channels, embedding_dim,\n",
        "                                    kernel_size=patch_size, stride=patch_size)\n",
        "        self.cls_token = nn.Parameter(torch.randn(1, 1, embedding_dim))\n",
        "        self.position_embeddings = nn.Parameter(torch.randn(\n",
        "            1, (image_size // patch_size) ** 2 + 1, embedding_dim))\n",
        "\n",
        "    def forward(self, x):\n",
        "        B = x.shape[0]\n",
        "        x = self.projection(x)  # (B, embed_dim, H', W')\n",
        "        x = x.flatten(2).transpose(1, 2)  # (B, num_patches, embed_dim)\n",
        "        cls_tokens = self.cls_token.expand(B, -1, -1)\n",
        "        x = torch.cat((cls_tokens, x), dim=1)  # prepend cls token\n",
        "        x = x + self.position_embeddings\n",
        "        return x\n"
      ]
    },
    {
      "cell_type": "markdown",
      "source": [
        "3. Transformer Encoder Block"
      ],
      "metadata": {
        "id": "GVFtXUtpDuaA"
      }
    },
    {
      "cell_type": "code",
      "source": [
        "class TransformerEncoderBlock(nn.Module):\n",
        "    def __init__(self, embed_dim, num_heads, mlp_dim, dropout=0.1):\n",
        "        super().__init__()\n",
        "        self.norm1 = nn.LayerNorm(embed_dim)\n",
        "        self.attn = nn.MultiheadAttention(embed_dim, num_heads, dropout=dropout, batch_first=True)\n",
        "        self.norm2 = nn.LayerNorm(embed_dim)\n",
        "        self.mlp = nn.Sequential(\n",
        "            nn.Linear(embed_dim, mlp_dim),\n",
        "            nn.GELU(),\n",
        "            nn.Dropout(dropout),\n",
        "            nn.Linear(mlp_dim, embed_dim),\n",
        "            nn.Dropout(dropout)\n",
        "        )\n",
        "\n",
        "    def forward(self, x):\n",
        "        x = x + self.attn(self.norm1(x), self.norm1(x), self.norm1(x))[0]\n",
        "        x = x + self.mlp(self.norm2(x))\n",
        "        return x\n"
      ],
      "metadata": {
        "id": "01ahOhGHDwtp"
      },
      "execution_count": null,
      "outputs": []
    },
    {
      "cell_type": "markdown",
      "source": [
        "4. Complete ViT Model"
      ],
      "metadata": {
        "id": "-nP-NovnD0b8"
      }
    },
    {
      "cell_type": "code",
      "source": [
        "class ViT(nn.Module):\n",
        "    def __init__(self, image_size=224, patch_size=16, in_channels=3,\n",
        "                 num_classes=10, embed_dim=768, depth=12, heads=12, mlp_dim=3072, dropout=0.1):\n",
        "        super().__init__()\n",
        "        self.patch_embed = PatchEmbedding(in_channels, patch_size, embed_dim, image_size)\n",
        "        self.transformer_blocks = nn.Sequential(*[\n",
        "            TransformerEncoderBlock(embed_dim, heads, mlp_dim, dropout)\n",
        "            for _ in range(depth)\n",
        "        ])\n",
        "        self.norm = nn.LayerNorm(embed_dim)\n",
        "        self.classifier = nn.Linear(embed_dim, num_classes)\n",
        "\n",
        "    def forward(self, x):\n",
        "        x = self.patch_embed(x)\n",
        "        x = self.transformer_blocks(x)\n",
        "        x = self.norm(x)\n",
        "        return self.classifier(x[:, 0])  # only the [CLS] token\n"
      ],
      "metadata": {
        "id": "OaFpmLwwD1JY"
      },
      "execution_count": null,
      "outputs": []
    },
    {
      "cell_type": "markdown",
      "source": [
        "5. Training Summary (typical setup)"
      ],
      "metadata": {
        "id": "t3P2Cy9wD-Q_"
      }
    },
    {
      "cell_type": "code",
      "source": [
        "from torch.utils.data import DataLoader\n",
        "from torchvision import transforms, datasets\n",
        "\n",
        "transform = transforms.Compose([\n",
        "    transforms.Resize((224, 224)),\n",
        "    transforms.ToTensor()\n",
        "])\n",
        "\n",
        "train_data = datasets.FakeData(size=1000, image_size=(3, 224, 224),\n",
        "                               num_classes=10, transform=transform)\n",
        "train_loader = DataLoader(train_data, batch_size=32, shuffle=True)\n",
        "\n",
        "model = ViT()\n",
        "loss_fn = nn.CrossEntropyLoss()\n",
        "optimizer = torch.optim.Adam(model.parameters(), lr=3e-4)\n",
        "\n",
        "# Training loop\n",
        "for epoch in range(5):\n",
        "    for X, y in train_loader:\n",
        "        preds = model(X)\n",
        "        loss = loss_fn(preds, y)\n",
        "        optimizer.zero_grad()\n",
        "        loss.backward()\n",
        "        optimizer.step()\n",
        "    print(f\"Epoch {epoch+1} complete.\")\n"
      ],
      "metadata": {
        "id": "CIYgwof7DxbF"
      },
      "execution_count": null,
      "outputs": []
    }
  ]
}